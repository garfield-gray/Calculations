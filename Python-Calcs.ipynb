{
 "cells": [
  {
   "cell_type": "code",
   "execution_count": 2,
   "id": "d866f74e",
   "metadata": {},
   "outputs": [],
   "source": [
    "from matplotlib import pyplot as plt\n",
    "import numpy as np\n",
    "from scipy.optimize import (minimize, fmin) "
   ]
  },
  {
   "cell_type": "code",
   "execution_count": 3,
   "id": "91dda886",
   "metadata": {},
   "outputs": [
    {
     "name": "stdout",
     "output_type": "stream",
     "text": [
      "Optimization terminated successfully.\n",
      "         Current function value: 0.000000\n",
      "         Iterations: 68\n",
      "         Function evaluations: 132\n"
     ]
    }
   ],
   "source": [
    "#Nelder-Mead optimization instant 1\n",
    "def obj(x):\n",
    "    return (3*x[0]**2 + 12*x[1]**2 + 10*x[0])**2 + (24*x[0]*x[1] + 4*x[1] + 3)**2  \n",
    " \n",
    "x0 = np.array([-3.5, 0])\n",
    "res = minimize(obj, x0, method='nelder-mead', options={'xatol': 1e-8, 'disp': True})"
   ]
  },
  {
   "cell_type": "code",
   "execution_count": 4,
   "id": "a7e2e6e2",
   "metadata": {},
   "outputs": [
    {
     "name": "stdout",
     "output_type": "stream",
     "text": [
      "[-3.33146026  0.03949705]\n"
     ]
    }
   ],
   "source": [
    "print(res.x)"
   ]
  },
  {
   "cell_type": "code",
   "execution_count": 12,
   "id": "f542d387",
   "metadata": {},
   "outputs": [
    {
     "name": "stdout",
     "output_type": "stream",
     "text": [
      "Optimization terminated successfully.\n",
      "         Current function value: -4416.384105\n",
      "         Iterations: 1071\n",
      "         Function evaluations: 1498\n"
     ]
    }
   ],
   "source": [
    "#Nelder-Mead optimization instant 2\n",
    "K = [0, 0, 0, 0, 0, 0]\n",
    "for k in range(0, 6):\n",
    "    K[k] = 500 + 200*(5/3-k-1)**2\n",
    "W = [0, 0, 0, 0, 0]\n",
    "for w in range(0, 5):\n",
    "    W[w] = 50*(w+1)\n",
    "\n",
    "def obje(x):\n",
    "    PE = 0\n",
    "    PE += 1/2*K[0]*(np.sqrt((x[0]-0)**2+(x[5]-0)**2)-10)**2\n",
    "    for i in range(1, 5):\n",
    "        PE += 1/2*K[i]*(np.sqrt((x[i]-x[i-1])**2+(x[i+5]-x[i+4])**2)-10)**2\n",
    "    PE += 1/2*K[5]*(np.sqrt((60-x[4])**2+(0-x[9])**2)-10)**2\n",
    "    for j in range(0, 5):\n",
    "        PE += W[j]*x[j+5]\n",
    "        \n",
    "    return PE\n",
    " \n",
    "x0 = np.array([10, 21, 31, 42, 51, -4, -7, -9, -9, -6])#first 5 is X rest is Y\n",
    "ref = fmin(obje, x0, xtol = 1e-2, maxfun = 10000, disp = True)"
   ]
  },
  {
   "cell_type": "code",
   "execution_count": 13,
   "id": "0158835d",
   "metadata": {},
   "outputs": [
    {
     "name": "stdout",
     "output_type": "stream",
     "text": [
      "[10.35498789 21.08691513 31.68712572 42.08988973 51.77131188 -4.27959339\n",
      " -7.89691541 -9.85336231 -9.39331663 -6.01181359]\n"
     ]
    }
   ],
   "source": [
    "print(ref[])"
   ]
  },
  {
   "cell_type": "code",
   "execution_count": 51,
   "id": "a5aaa526",
   "metadata": {},
   "outputs": [
    {
     "name": "stdout",
     "output_type": "stream",
     "text": [
      "6\n"
     ]
    }
   ],
   "source": [
    "def sa(x):\n",
    "    f = 0\n",
    "    for i in range(0, 3):\n",
    "        f += x[i]\n",
    "    return f\n",
    "print(sa(np.array([1,2,3])))"
   ]
  },
  {
   "cell_type": "code",
   "execution_count": 50,
   "id": "07187867",
   "metadata": {},
   "outputs": [
    {
     "data": {
      "image/png": "[encoded data removed]",
      "text/plain": [
       "<Figure size 900x468 with 1 Axes>"
      ]
     },
     "metadata": {
      "needs_background": "light"
     },
     "output_type": "display_data"
    }
   ],
   "source": [
    "#polygon(LP)\n",
    "d = np.linspace(-2,16,3000)\n",
    "x,y = np.meshgrid(d,d)\n",
    "plt.imshow( ((25/(x*y)+3000/(x*y**2)-2467.4126*y**2<=0) & (25/(x*y)+3000/(x*y**2)<=30000)  \n",
    "             & (x-2*y<=0) & (0.5-x<=0) & (y>=0)).astype(int) , \n",
    "                extent=(x.min(),x.max(),y.min(),y.max()),origin=\"lower\", cmap=\"Greys\", alpha = 0.3);\n",
    "\n",
    "\n",
    "# plot the lines defining the constraints\n",
    "x = np.linspace(0, 16, 2000)\n",
    "\n",
    "# y <= 0.3*x^2\n",
    "y2 = 0.3*x**2\n",
    "# 4y >= 2x - 8 \n",
    "y3 = x/2\n",
    "# y >= 0\n",
    "y5 = (x*0) \n",
    "\n",
    "# Make plot\n",
    "#plt.plot(x, y2, label=r'$2y\\leq25-x$')\n",
    "plt.plot(x, y3, label=r'$g_3:x-2y\\leq0$')\n",
    "plt.axvline(x=0.5, label=r'$g_4:0.5-x\\leq0$')\n",
    "plt.plot(x, y5, label=r'$g_5:-y\\leq0$')\n",
    "\n",
    "plt.xlim(0,5)\n",
    "plt.ylim(0,3)\n",
    "plt.legend(bbox_to_anchor=(1.05, 1), loc=2, borderaxespad=0.)\n",
    "\n",
    "plt.xlabel(r'$x$')\n",
    "plt.ylabel(r'$y$')\n",
    "plt.show()"
   ]
  },
  {
   "cell_type": "code",
   "execution_count": null,
   "id": "25c4333c",
   "metadata": {},
   "outputs": [],
   "source": []
  }
 ],
 "metadata": {
  "kernelspec": {
   "display_name": "Python 3",
   "language": "python",
   "name": "python3"
  },
  "language_info": {
   "codemirror_mode": {
    "name": "ipython",
    "version": 3
   },
   "file_extension": ".py",
   "mimetype": "text/x-python",
   "name": "python",
   "nbconvert_exporter": "python",
   "pygments_lexer": "ipython3",
   "version": "3.8.8"
  }
 },
 "nbformat": 4,
 "nbformat_minor": 5
}
