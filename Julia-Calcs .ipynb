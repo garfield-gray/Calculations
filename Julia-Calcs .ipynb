{
 "cells": [
  {
   "cell_type": "code",
   "execution_count": 3,
   "id": "cf6e42de",
   "metadata": {},
   "outputs": [],
   "source": [
    "using Distributions "
   ]
  },
  {
   "cell_type": "code",
   "execution_count": 27,
   "id": "fb4448e2",
   "metadata": {},
   "outputs": [
    {
     "data": {
      "text/plain": [
       "-3.4951255407981905"
      ]
     },
     "execution_count": 27,
     "metadata": {},
     "output_type": "execute_result"
    }
   ],
   "source": [
    "o = [rand(Uniform(-4,-3), 10) rand(Uniform(0, 0.5), 10)]\n",
    "o[4]"
   ]
  },
  {
   "cell_type": "code",
   "execution_count": 16,
   "id": "d82045e4",
   "metadata": {},
   "outputs": [
    {
     "data": {
      "text/plain": [
       "Uniform{Float64}(a=0.0, b=0.6)"
      ]
     },
     "execution_count": 16,
     "metadata": {},
     "output_type": "execute_result"
    }
   ],
   "source": [
    "rand(1, 2)\n",
    "Uniform(0,0.6)"
   ]
  },
  {
   "cell_type": "code",
   "execution_count": 4,
   "id": "6609f193",
   "metadata": {},
   "outputs": [
    {
     "data": {
      "text/plain": [
       "obj1 (generic function with 1 method)"
      ]
     },
     "execution_count": 4,
     "metadata": {},
     "output_type": "execute_result"
    }
   ],
   "source": [
    "function obj1(x)\n",
    "    return (3*x[:,1].^2 + 12*x[:,2].^2 + 10*x[:,1]).^2 + ((24*x[:,1].*x[:,2] + 4*x[:,2]).+3).^2  \n",
    "end"
   ]
  },
  {
   "cell_type": "code",
   "execution_count": 26,
   "id": "8bc931e8",
   "metadata": {},
   "outputs": [
    {
     "name": "stdout",
     "output_type": "stream",
     "text": [
      "[-3.331764238095355, 0.039422583596212965]"
     ]
    }
   ],
   "source": [
    "#Particle Swarm Optimization instant 1\n",
    "# Define PSO Parameters\n",
    "N = 2                     # Number of variables\n",
    "NP = 10                   # Number of particles\n",
    "MAXIT = 40                # Maximum Number of iterations\n",
    "Dmp = 1                   # Inertia weight damping ratio\n",
    "###############################################################################################\n",
    "a1 = 2.05; a2 = 2.05; phi = a1+a2; w = 2/abs(2-phi-sqrt(phi^2-4*phi)); c1 = w*a1; c2 = w*a2;\n",
    "x = [rand(Uniform(-4,-3), 10) rand(Uniform(0, 0.5), 10)]; # if we widen the range, it may find the other point!\n",
    "f = obj1(x); xlb = x; flb = f;\n",
    "(fgb,i) = findmin(flb); xgb = xlb[i,:];\n",
    "v = zeros(NP,N); Best = NaN*ones(MAXIT,1);\n",
    "\n",
    "for t in 1:MAXIT\n",
    "    v = w*v+c1*rand(NP,N).*(xlb-x)+c2*rand(NP,N).*(repeat(xgb',NP,1)-x); \n",
    "    #v = min(max(v,-vl),vl);\n",
    "    x = x+v; \n",
    "    #in = (x<R1 | x>R2) ;\n",
    "    #v(in) = -v(in); x = min(max(x,R1),R2);\n",
    "    f = obj1(x);\n",
    "    i = findall(f.<flb); xlb[i,:] = x[i,:]; flb[i] = f[i];\n",
    "    (fgb,i) = findmin(flb); xgb = xlb[i,:];\n",
    "    Best[t] = fgb; w = w*Dmp;\n",
    "end\n",
    "\n",
    "xmin = xgb; fmin = fgb\n",
    "print(xmin)"
   ]
  },
  {
   "cell_type": "code",
   "execution_count": 48,
   "id": "a6df1422",
   "metadata": {},
   "outputs": [
    {
     "ename": "LoadError",
     "evalue": "MethodError: no method matching +(::Int64, ::Vector{Float64})\nFor element-wise addition, use broadcasting with dot syntax: scalar .+ array\n\u001b[0mClosest candidates are:\n\u001b[0m  +(::Any, ::Any, \u001b[91m::Any\u001b[39m, \u001b[91m::Any...\u001b[39m) at operators.jl:560\n\u001b[0m  +(::T, \u001b[91m::T\u001b[39m) where T<:Union{Int128, Int16, Int32, Int64, Int8, UInt128, UInt16, UInt32, UInt64, UInt8} at int.jl:87\n\u001b[0m  +(::Union{Int16, Int32, Int64, Int8}, \u001b[91m::BigInt\u001b[39m) at gmp.jl:534\n\u001b[0m  ...",
     "output_type": "error",
     "traceback": [
      "MethodError: no method matching +(::Int64, ::Vector{Float64})\nFor element-wise addition, use broadcasting with dot syntax: scalar .+ array\n\u001b[0mClosest candidates are:\n\u001b[0m  +(::Any, ::Any, \u001b[91m::Any\u001b[39m, \u001b[91m::Any...\u001b[39m) at operators.jl:560\n\u001b[0m  +(::T, \u001b[91m::T\u001b[39m) where T<:Union{Int128, Int16, Int32, Int64, Int8, UInt128, UInt16, UInt32, UInt64, UInt8} at int.jl:87\n\u001b[0m  +(::Union{Int16, Int32, Int64, Int8}, \u001b[91m::BigInt\u001b[39m) at gmp.jl:534\n\u001b[0m  ...",
      "",
      "Stacktrace:",
      " [1] obje2(x::Matrix{Int64})",
      "   @ Main ./In[48]:14",
      " [2] top-level scope",
      "   @ In[48]:28",
      " [3] eval",
      "   @ ./boot.jl:360 [inlined]",
      " [4] include_string(mapexpr::typeof(REPL.softscope), mod::Module, code::String, filename::String)",
      "   @ Base ./loading.jl:1116"
     ]
    }
   ],
   "source": [
    "#Particle Swarm Optimization instant 1\n",
    "#defining the objective function\n",
    "K = zeros(6)\n",
    "for k in 1:6\n",
    "    K[k] = 500 + 200*(5/3-k-1)^2\n",
    "end\n",
    "W = zeros(5)\n",
    "for w in 1:5\n",
    "    W[w] = 50*(w+1)\n",
    "end\n",
    "\n",
    "function obje2(x)\n",
    "    PE = 0\n",
    "    PE += 1/2*K[1]*(sqrt.(((x[:,1].-0).^2 + (x[:,6].-0).^2)).-10).^2\n",
    "    \n",
    "    return PE\n",
    "end\n",
    "\n",
    "# Define PSO Parameters\n",
    "N = 2                     # Number of variables\n",
    "NP = 10                   # Number of particles\n",
    "MAXIT = 40                # Maximum Number of iterations\n",
    "Dmp = 1                   # Inertia weight damping ratio\n",
    "\n",
    "\n",
    "x = [10, 21, 31, 42, 51, -4, -7, -9, -9, -6]\n",
    "y = repeat(x',NP,1)\n",
    "obje2(y)"
   ]
  },
  {
   "cell_type": "code",
   "execution_count": 1,
   "id": "387b80ae",
   "metadata": {},
   "outputs": [
    {
     "data": {
      "text/plain": [
       "12×12 Matrix{Float64}:\n",
       " 0.0   0.1  0.0   0.0  0.9   0.0  0.0   0.0  0.0   0.0  0.0  0.0\n",
       " 0.05  0.0  0.05  0.0  0.0   0.9  0.0   0.0  0.0   0.0  0.0  0.0\n",
       " 0.0   0.0  1.0   0.0  0.0   0.0  0.0   0.0  0.0   0.0  0.0  0.0\n",
       " 0.0   0.0  0.0   1.0  0.0   0.0  0.0   0.0  0.0   0.0  0.0  0.0\n",
       " 0.05  0.0  0.0   0.0  0.0   0.9  0.0   0.0  0.05  0.0  0.0  0.0\n",
       " 0.0   0.0  0.0   0.0  0.05  0.0  0.05  0.0  0.0   0.9  0.0  0.0\n",
       " 0.0   0.0  0.0   0.0  0.0   0.0  1.0   0.0  0.0   0.0  0.0  0.0\n",
       " 0.0   0.0  0.0   0.9  0.0   0.0  0.1   0.0  0.0   0.0  0.0  0.0\n",
       " 0.0   0.0  0.0   0.0  0.0   0.0  0.0   0.0  1.0   0.0  0.0  0.0\n",
       " 0.0   0.0  0.0   0.0  0.0   0.1  0.0   0.0  0.0   0.0  0.9  0.0\n",
       " 0.0   0.0  0.0   0.0  0.0   0.0  0.1   0.0  0.0   0.0  0.0  0.9\n",
       " 0.0   0.0  0.0   0.0  0.0   0.0  0.0   0.9  0.0   0.0  0.1  0.0"
      ]
     },
     "execution_count": 1,
     "metadata": {},
     "output_type": "execute_result"
    }
   ],
   "source": [
    "P = [0 0.1 0 0 0.9 0 0 0 0 0 0 0\n",
    "    0.05 0 0.05 0 0 0.9 0 0 0 0 0 0\n",
    "    0 0 1 0 0 0 0 0 0 0 0 0\n",
    "    0 0 0 1 0 0 0 0 0 0 0 0\n",
    "    0.05 0 0 0 0 0.9 0 0 0.05 0 0 0\n",
    "    0 0 0 0 0.05 0 0.05 0 0 0.9 0 0\n",
    "    0 0 0 0 0 0 1 0 0 0 0 0\n",
    "    0 0 0 0.9 0 0 0.1 0 0 0 0 0\n",
    "    0 0 0 0 0 0 0 0 1 0 0 0\n",
    "    0 0 0 0 0 0.1 0 0 0 0 0.9 0\n",
    "    0 0 0 0 0 0 0.1 0 0 0 0 0.9\n",
    "    0 0 0 0 0 0 0 0.9 0 0 0.1 0]"
   ]
  },
  {
   "cell_type": "code",
   "execution_count": 2,
   "id": "87843a52",
   "metadata": {},
   "outputs": [
    {
     "data": {
      "text/plain": [
       "12×1 Matrix{Float64}:\n",
       " 1.0\n",
       " 1.0\n",
       " 1.0\n",
       " 1.0\n",
       " 1.0\n",
       " 1.0\n",
       " 1.0\n",
       " 1.0\n",
       " 1.0\n",
       " 1.0\n",
       " 1.0\n",
       " 1.0"
      ]
     },
     "execution_count": 2,
     "metadata": {},
     "output_type": "execute_result"
    }
   ],
   "source": [
    "P*[1 1 1 1 1 1 1 1 1 1 1 1]'"
   ]
  },
  {
   "cell_type": "code",
   "execution_count": 3,
   "id": "6fb87bd0",
   "metadata": {},
   "outputs": [
    {
     "data": {
      "text/plain": [
       "MDP (generic function with 1 method)"
      ]
     },
     "execution_count": 3,
     "metadata": {},
     "output_type": "execute_result"
    }
   ],
   "source": [
    "function MDP(r,g,p,n)   #(r,g,p,n) = (reward,gamma,probability,iteration)\n",
    "    v = r\n",
    "    for i in 1:n\n",
    "        x = g*p*v\n",
    "        v = x\n",
    "    end\n",
    "    return v\n",
    "end"
   ]
  },
  {
   "cell_type": "code",
   "execution_count": 4,
   "id": "9dc0bc28",
   "metadata": {},
   "outputs": [
    {
     "data": {
      "text/plain": [
       "12×1 Matrix{Float64}:\n",
       "   2.4968601867930746\n",
       "   0.15686018679307434\n",
       " -50.0\n",
       "  20.0\n",
       "   2.7568601867930744\n",
       "   2.8133524193926895\n",
       " -50.0\n",
       "  13.0\n",
       "   2.0\n",
       "   5.75056601117004\n",
       "   6.076923076923078\n",
       "  12.307692307692308"
      ]
     },
     "execution_count": 4,
     "metadata": {},
     "output_type": "execute_result"
    }
   ],
   "source": [
    "R = [0 0 -50 20 0 0 -50 0 2 0 0 0]'\n",
    "MDP(R,1,P,50)"
   ]
  },
  {
   "cell_type": "code",
   "execution_count": 8,
   "id": "8ed39ca4",
   "metadata": {},
   "outputs": [
    {
     "name": "stdout",
     "output_type": "stream",
     "text": [
      "1"
     ]
    }
   ],
   "source": [
    "s1=1;s2=2;\n",
    "print(s1)"
   ]
  },
  {
   "cell_type": "code",
   "execution_count": null,
   "id": "e256ddb1",
   "metadata": {},
   "outputs": [],
   "source": []
  }
 ],
 "metadata": {
  "kernelspec": {
   "display_name": "Julia 1.6.2",
   "language": "julia",
   "name": "julia-1.6"
  },
  "language_info": {
   "file_extension": ".jl",
   "mimetype": "application/julia",
   "name": "julia",
   "version": "1.6.2"
  }
 },
 "nbformat": 4,
 "nbformat_minor": 5
}
