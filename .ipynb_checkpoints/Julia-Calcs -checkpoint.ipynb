{
 "cells": [
  {
   "cell_type": "code",
   "execution_count": 1,
   "id": "cf6e42de",
   "metadata": {},
   "outputs": [
    {
     "data": {
      "text/plain": [
       "12×12 Matrix{Float64}:\n",
       " 0.0   0.1  0.0   0.0  0.9   0.0  0.0   0.0  0.0   0.0  0.0  0.0\n",
       " 0.05  0.0  0.05  0.0  0.0   0.9  0.0   0.0  0.0   0.0  0.0  0.0\n",
       " 0.0   0.0  1.0   0.0  0.0   0.0  0.0   0.0  0.0   0.0  0.0  0.0\n",
       " 0.0   0.0  0.0   1.0  0.0   0.0  0.0   0.0  0.0   0.0  0.0  0.0\n",
       " 0.05  0.0  0.0   0.0  0.0   0.9  0.0   0.0  0.05  0.0  0.0  0.0\n",
       " 0.0   0.0  0.0   0.0  0.05  0.0  0.05  0.0  0.0   0.9  0.0  0.0\n",
       " 0.0   0.0  0.0   0.0  0.0   0.0  1.0   0.0  0.0   0.0  0.0  0.0\n",
       " 0.0   0.0  0.0   0.9  0.0   0.0  0.1   0.0  0.0   0.0  0.0  0.0\n",
       " 0.0   0.0  0.0   0.0  0.0   0.0  0.0   0.0  1.0   0.0  0.0  0.0\n",
       " 0.0   0.0  0.0   0.0  0.0   0.1  0.0   0.0  0.0   0.0  0.9  0.0\n",
       " 0.0   0.0  0.0   0.0  0.0   0.0  0.1   0.0  0.0   0.0  0.0  0.9\n",
       " 0.0   0.0  0.0   0.0  0.0   0.0  0.0   0.9  0.0   0.0  0.1  0.0"
      ]
     },
     "execution_count": 1,
     "metadata": {},
     "output_type": "execute_result"
    }
   ],
   "source": []
  },
  {
   "cell_type": "code",
   "execution_count": 1,
   "id": "64b7769c",
   "metadata": {},
   "outputs": [
    {
     "data": {
      "text/plain": [
       "12×12 Matrix{Float64}:\n",
       " 0.0   0.1  0.0   0.0  0.9   0.0  0.0   0.0  0.0   0.0  0.0  0.0\n",
       " 0.05  0.0  0.05  0.0  0.0   0.9  0.0   0.0  0.0   0.0  0.0  0.0\n",
       " 0.0   0.0  1.0   0.0  0.0   0.0  0.0   0.0  0.0   0.0  0.0  0.0\n",
       " 0.0   0.0  0.0   1.0  0.0   0.0  0.0   0.0  0.0   0.0  0.0  0.0\n",
       " 0.05  0.0  0.0   0.0  0.0   0.9  0.0   0.0  0.05  0.0  0.0  0.0\n",
       " 0.0   0.0  0.0   0.0  0.05  0.0  0.05  0.0  0.0   0.9  0.0  0.0\n",
       " 0.0   0.0  0.0   0.0  0.0   0.0  1.0   0.0  0.0   0.0  0.0  0.0\n",
       " 0.0   0.0  0.0   0.9  0.0   0.0  0.1   0.0  0.0   0.0  0.0  0.0\n",
       " 0.0   0.0  0.0   0.0  0.0   0.0  0.0   0.0  1.0   0.0  0.0  0.0\n",
       " 0.0   0.0  0.0   0.0  0.0   0.1  0.0   0.0  0.0   0.0  0.9  0.0\n",
       " 0.0   0.0  0.0   0.0  0.0   0.0  0.1   0.0  0.0   0.0  0.0  0.9\n",
       " 0.0   0.0  0.0   0.0  0.0   0.0  0.0   0.9  0.0   0.0  0.1  0.0"
      ]
     },
     "execution_count": 1,
     "metadata": {},
     "output_type": "execute_result"
    }
   ],
   "source": [
    "P = [0 0.1 0 0 0.9 0 0 0 0 0 0 0\n",
    "    0.05 0 0.05 0 0 0.9 0 0 0 0 0 0\n",
    "    0 0 1 0 0 0 0 0 0 0 0 0\n",
    "    0 0 0 1 0 0 0 0 0 0 0 0\n",
    "    0.05 0 0 0 0 0.9 0 0 0.05 0 0 0\n",
    "    0 0 0 0 0.05 0 0.05 0 0 0.9 0 0\n",
    "    0 0 0 0 0 0 1 0 0 0 0 0\n",
    "    0 0 0 0.9 0 0 0.1 0 0 0 0 0\n",
    "    0 0 0 0 0 0 0 0 1 0 0 0\n",
    "    0 0 0 0 0 0.1 0 0 0 0 0.9 0\n",
    "    0 0 0 0 0 0 0.1 0 0 0 0 0.9\n",
    "    0 0 0 0 0 0 0 0.9 0 0 0.1 0]"
   ]
  },
  {
   "cell_type": "code",
   "execution_count": 2,
   "id": "87843a52",
   "metadata": {},
   "outputs": [
    {
     "data": {
      "text/plain": [
       "12×1 Matrix{Float64}:\n",
       " 1.0\n",
       " 1.0\n",
       " 1.0\n",
       " 1.0\n",
       " 1.0\n",
       " 1.0\n",
       " 1.0\n",
       " 1.0\n",
       " 1.0\n",
       " 1.0\n",
       " 1.0\n",
       " 1.0"
      ]
     },
     "execution_count": 2,
     "metadata": {},
     "output_type": "execute_result"
    }
   ],
   "source": [
    "P*[1 1 1 1 1 1 1 1 1 1 1 1]'"
   ]
  },
  {
   "cell_type": "code",
   "execution_count": 3,
   "id": "6fb87bd0",
   "metadata": {},
   "outputs": [
    {
     "data": {
      "text/plain": [
       "MDP (generic function with 1 method)"
      ]
     },
     "execution_count": 3,
     "metadata": {},
     "output_type": "execute_result"
    }
   ],
   "source": [
    "function MDP(r,g,p,n)   #(r,g,p,n) = (reward,gamma,probability,iteration)\n",
    "    v = r\n",
    "    for i in 1:n\n",
    "        x = g*p*v\n",
    "        v = x\n",
    "    end\n",
    "    return v\n",
    "end"
   ]
  },
  {
   "cell_type": "code",
   "execution_count": 4,
   "id": "9dc0bc28",
   "metadata": {},
   "outputs": [
    {
     "data": {
      "text/plain": [
       "12×1 Matrix{Float64}:\n",
       "   2.4968601867930746\n",
       "   0.15686018679307434\n",
       " -50.0\n",
       "  20.0\n",
       "   2.7568601867930744\n",
       "   2.8133524193926895\n",
       " -50.0\n",
       "  13.0\n",
       "   2.0\n",
       "   5.75056601117004\n",
       "   6.076923076923078\n",
       "  12.307692307692308"
      ]
     },
     "execution_count": 4,
     "metadata": {},
     "output_type": "execute_result"
    }
   ],
   "source": [
    "R = [0 0 -50 20 0 0 -50 0 2 0 0 0]'\n",
    "MDP(R,1,P,50)"
   ]
  },
  {
   "cell_type": "code",
   "execution_count": null,
   "id": "8ed39ca4",
   "metadata": {},
   "outputs": [],
   "source": []
  }
 ],
 "metadata": {
  "kernelspec": {
   "display_name": "Julia 1.6.2",
   "language": "julia",
   "name": "julia-1.6"
  },
  "language_info": {
   "file_extension": ".jl",
   "mimetype": "application/julia",
   "name": "julia",
   "version": "1.6.2"
  }
 },
 "nbformat": 4,
 "nbformat_minor": 5
}
