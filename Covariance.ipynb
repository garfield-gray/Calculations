{
  "nbformat": 4,
  "nbformat_minor": 0,
  "metadata": {
    "colab": {
      "provenance": [],
      "authorship_tag": "ABX9TyNlcxRPzOcSgChnT6mjjhw6",
      "include_colab_link": true
    },
    "kernelspec": {
      "name": "python3",
      "display_name": "Python 3"
    },
    "language_info": {
      "name": "python"
    }
  },
  "cells": [
    {
      "cell_type": "markdown",
      "metadata": {
        "id": "view-in-github",
        "colab_type": "text"
      },
      "source": [
        "<a href=\"https://colab.research.google.com/github/garfield-gray/Calculations/blob/main/Covariance.ipynb\" target=\"_parent\"><img src=\"https://colab.research.google.com/assets/colab-badge.svg\" alt=\"Open In Colab\"/></a>"
      ]
    },
    {
      "cell_type": "code",
      "execution_count": 76,
      "metadata": {
        "id": "7LR8l2CnvWW8"
      },
      "outputs": [],
      "source": [
        "import numpy as np\n",
        "from sklearn import datasets\n",
        "data = datasets.load_iris()\n",
        "A = data.data"
      ]
    },
    {
      "cell_type": "code",
      "source": [
        "A.shape"
      ],
      "metadata": {
        "colab": {
          "base_uri": "https://localhost:8080/"
        },
        "id": "0uDyFUfjvbhj",
        "outputId": "5b7fb655-2e16-46db-95d0-5e653f1dacd1"
      },
      "execution_count": 77,
      "outputs": [
        {
          "output_type": "execute_result",
          "data": {
            "text/plain": [
              "(150, 4)"
            ]
          },
          "metadata": {},
          "execution_count": 77
        }
      ]
    },
    {
      "cell_type": "code",
      "source": [],
      "metadata": {
        "colab": {
          "base_uri": "https://localhost:8080/"
        },
        "id": "mwEfw2IbvukJ",
        "outputId": "88bd6d03-22d4-410e-bd50-547e9ef7cabd"
      },
      "execution_count": 48,
      "outputs": [
        {
          "output_type": "stream",
          "name": "stdout",
          "text": [
            "[[ 0.68569351 -0.042434    1.27431544  0.51627069]\n",
            " [-0.042434    0.18997942 -0.32965638 -0.12163937]\n",
            " [ 1.27431544 -0.32965638  3.11627785  1.2956094 ]\n",
            " [ 0.51627069 -0.12163937  1.2956094   0.58100626]]\n"
          ]
        }
      ]
    },
    {
      "cell_type": "code",
      "source": [
        "c.shape"
      ],
      "metadata": {
        "colab": {
          "base_uri": "https://localhost:8080/"
        },
        "id": "8DgeJTMtv5kz",
        "outputId": "9d0607b0-2f2e-4962-d00b-20be536e1ebe"
      },
      "execution_count": 49,
      "outputs": [
        {
          "output_type": "execute_result",
          "data": {
            "text/plain": [
              "(4, 4)"
            ]
          },
          "metadata": {},
          "execution_count": 49
        }
      ]
    },
    {
      "cell_type": "code",
      "source": [
        "A.T@A"
      ],
      "metadata": {
        "colab": {
          "base_uri": "https://localhost:8080/"
        },
        "id": "lHZ7KI6av86j",
        "outputId": "ba454026-8516-4ee8-b6db-3e6bf486e9c6"
      },
      "execution_count": 50,
      "outputs": [
        {
          "output_type": "execute_result",
          "data": {
            "text/plain": [
              "array([[5223.85, 2673.43, 3483.76, 1128.14],\n",
              "       [2673.43, 1430.4 , 1674.3 ,  531.89],\n",
              "       [3483.76, 1674.3 , 2582.71,  869.11],\n",
              "       [1128.14,  531.89,  869.11,  302.33]])"
            ]
          },
          "metadata": {},
          "execution_count": 50
        }
      ]
    },
    {
      "cell_type": "code",
      "source": [
        "(A.T@A-(150-2)*(A.T@np.ones([150,150])@A))/150"
      ],
      "metadata": {
        "colab": {
          "base_uri": "https://localhost:8080/"
        },
        "id": "9ydwqx3MwKDO",
        "outputId": "54eb94f8-d837-4ee1-9572-0628d5ba4ee9"
      },
      "execution_count": 56,
      "outputs": [
        {
          "output_type": "execute_result",
          "data": {
            "text/plain": [
              "array([[-757974.061     , -396585.5718    , -487472.05093333,\n",
              "        -155572.39773333],\n",
              "       [-396585.5718    , -207500.23786667, -255054.8204    ,\n",
              "         -81398.56553333],\n",
              "       [-487472.05093333, -255054.8204    , -313503.70273333,\n",
              "        -100051.70753333],\n",
              "       [-155572.39773333,  -81398.56553333, -100051.70753333,\n",
              "         -31930.47433333]])"
            ]
          },
          "metadata": {},
          "execution_count": 56
        }
      ]
    },
    {
      "cell_type": "code",
      "source": [
        "((A-(np.ones([150, 150])@A)/150).T@(A-(np.ones([150, 150])@A)/150))/150"
      ],
      "metadata": {
        "colab": {
          "base_uri": "https://localhost:8080/"
        },
        "id": "vnHoDLbawQDa",
        "outputId": "5effbd22-74c7-4c51-c05d-3c2b2591b72d"
      },
      "execution_count": 78,
      "outputs": [
        {
          "output_type": "execute_result",
          "data": {
            "text/plain": [
              "array([[ 0.68112222, -0.04215111,  1.26582   ,  0.51282889],\n",
              "       [-0.04215111,  0.18871289, -0.32745867, -0.12082844],\n",
              "       [ 1.26582   , -0.32745867,  3.09550267,  1.286972  ],\n",
              "       [ 0.51282889, -0.12082844,  1.286972  ,  0.57713289]])"
            ]
          },
          "metadata": {},
          "execution_count": 78
        }
      ]
    },
    {
      "cell_type": "code",
      "source": [
        "np.cov(A.T)"
      ],
      "metadata": {
        "colab": {
          "base_uri": "https://localhost:8080/"
        },
        "id": "oDpHykrY0DdE",
        "outputId": "fee93c5a-e7e7-4f72-8214-c773d3d8be31"
      },
      "execution_count": 79,
      "outputs": [
        {
          "output_type": "execute_result",
          "data": {
            "text/plain": [
              "array([[ 0.68569351, -0.042434  ,  1.27431544,  0.51627069],\n",
              "       [-0.042434  ,  0.18997942, -0.32965638, -0.12163937],\n",
              "       [ 1.27431544, -0.32965638,  3.11627785,  1.2956094 ],\n",
              "       [ 0.51627069, -0.12163937,  1.2956094 ,  0.58100626]])"
            ]
          },
          "metadata": {},
          "execution_count": 79
        }
      ]
    },
    {
      "cell_type": "code",
      "source": [
        "(A.T@A - A.T@np.ones([150, 150])@A/150)/150"
      ],
      "metadata": {
        "colab": {
          "base_uri": "https://localhost:8080/"
        },
        "id": "ORJo3P36zGjC",
        "outputId": "c0e2e7ab-f7e9-4ce2-adc5-e1932dccc720"
      },
      "execution_count": 80,
      "outputs": [
        {
          "output_type": "execute_result",
          "data": {
            "text/plain": [
              "array([[ 0.68112222, -0.04215111,  1.26582   ,  0.51282889],\n",
              "       [-0.04215111,  0.18871289, -0.32745867, -0.12082844],\n",
              "       [ 1.26582   , -0.32745867,  3.09550267,  1.286972  ],\n",
              "       [ 0.51282889, -0.12082844,  1.286972  ,  0.57713289]])"
            ]
          },
          "metadata": {},
          "execution_count": 80
        }
      ]
    },
    {
      "cell_type": "code",
      "source": [
        "# Booooooy!!\n",
        "\n",
        "mean = np.ones([1, 150])@A/150\n",
        "\n",
        "A.T@A/150 - mean.T@mean"
      ],
      "metadata": {
        "colab": {
          "base_uri": "https://localhost:8080/"
        },
        "id": "sK3ujlI9AEKM",
        "outputId": "389662fc-3e7b-489a-eef0-3f9d004011d1"
      },
      "execution_count": 114,
      "outputs": [
        {
          "output_type": "execute_result",
          "data": {
            "text/plain": [
              "array([[ 0.68112222, -0.04215111,  1.26582   ,  0.51282889],\n",
              "       [-0.04215111,  0.18871289, -0.32745867, -0.12082844],\n",
              "       [ 1.26582   , -0.32745867,  3.09550267,  1.286972  ],\n",
              "       [ 0.51282889, -0.12082844,  1.286972  ,  0.57713289]])"
            ]
          },
          "metadata": {},
          "execution_count": 114
        }
      ]
    },
    {
      "cell_type": "code",
      "source": [
        "mean = np.ones([1, 150])@A/150\n",
        "150*mean.T@mean"
      ],
      "metadata": {
        "colab": {
          "base_uri": "https://localhost:8080/"
        },
        "id": "9w7t3EeC9YdZ",
        "outputId": "2877ef7b-ce27-4a2b-81c3-aaf250aedf66"
      },
      "execution_count": 113,
      "outputs": [
        {
          "output_type": "execute_result",
          "data": {
            "text/plain": [
              "array([[5121.68166667, 2679.75266667, 3293.887     , 1051.21566667],\n",
              "       [2679.75266667, 1402.09306667, 1723.4188    ,  550.01426667],\n",
              "       [3293.887     , 1723.4188    , 2118.3846    ,  676.0642    ],\n",
              "       [1051.21566667,  550.01426667,  676.0642    ,  215.76006667]])"
            ]
          },
          "metadata": {},
          "execution_count": 113
        }
      ]
    },
    {
      "cell_type": "code",
      "source": [
        "A.T@np.ones([150, 150])@A/150"
      ],
      "metadata": {
        "colab": {
          "base_uri": "https://localhost:8080/"
        },
        "id": "96i9g5vx-zcS",
        "outputId": "1bf93141-eb98-4779-8930-dd3b9fd683b7"
      },
      "execution_count": 97,
      "outputs": [
        {
          "output_type": "execute_result",
          "data": {
            "text/plain": [
              "array([[5121.68166667, 2679.75266667, 3293.887     , 1051.21566667],\n",
              "       [2679.75266667, 1402.09306667, 1723.4188    ,  550.01426667],\n",
              "       [3293.887     , 1723.4188    , 2118.3846    ,  676.0642    ],\n",
              "       [1051.21566667,  550.01426667,  676.0642    ,  215.76006667]])"
            ]
          },
          "metadata": {},
          "execution_count": 97
        }
      ]
    },
    {
      "cell_type": "code",
      "source": [
        "np.ones(150)@A/150"
      ],
      "metadata": {
        "colab": {
          "base_uri": "https://localhost:8080/"
        },
        "id": "tXpPp1D39zeY",
        "outputId": "d6c8f48b-fc60-41f1-e1f1-b1c4e997b613"
      },
      "execution_count": 95,
      "outputs": [
        {
          "output_type": "execute_result",
          "data": {
            "text/plain": [
              "array([5.84333333, 3.05733333, 3.758     , 1.19933333])"
            ]
          },
          "metadata": {},
          "execution_count": 95
        }
      ]
    },
    {
      "cell_type": "code",
      "source": [
        "(A.T@np.ones([150, 150])@A/150)[0]/np.linalg.norm((A.T@np.ones([150, 150])@A/150)[0], 2)"
      ],
      "metadata": {
        "colab": {
          "base_uri": "https://localhost:8080/"
        },
        "id": "oNM7BsVfzIwu",
        "outputId": "c62d8f33-c3b5-4fc2-e33e-171f67ad3caa"
      },
      "execution_count": 87,
      "outputs": [
        {
          "output_type": "execute_result",
          "data": {
            "text/plain": [
              "array([0.76039706, 0.39785293, 0.48903117, 0.15607009])"
            ]
          },
          "metadata": {},
          "execution_count": 87
        }
      ]
    },
    {
      "cell_type": "code",
      "source": [
        "(A.T@np.ones([150, 150])@A/150)[1]/np.linalg.norm((A.T@np.ones([150, 150])@A/150)[1], 2)"
      ],
      "metadata": {
        "colab": {
          "base_uri": "https://localhost:8080/"
        },
        "id": "IEibn0N0zZz4",
        "outputId": "709f49d4-d9d3-435f-ad80-449b34b3fe97"
      },
      "execution_count": 88,
      "outputs": [
        {
          "output_type": "execute_result",
          "data": {
            "text/plain": [
              "array([0.76039706, 0.39785293, 0.48903117, 0.15607009])"
            ]
          },
          "metadata": {},
          "execution_count": 88
        }
      ]
    },
    {
      "cell_type": "code",
      "source": [
        "(A.T@np.ones([150, 150])@A/150)[2]/np.linalg.norm((A.T@np.ones([150, 150])@A/150)[2], 2)"
      ],
      "metadata": {
        "colab": {
          "base_uri": "https://localhost:8080/"
        },
        "id": "OOhXBtPE4_qv",
        "outputId": "bd9104d4-b0e9-46b2-bcc1-256e1be15030"
      },
      "execution_count": 89,
      "outputs": [
        {
          "output_type": "execute_result",
          "data": {
            "text/plain": [
              "array([0.76039706, 0.39785293, 0.48903117, 0.15607009])"
            ]
          },
          "metadata": {},
          "execution_count": 89
        }
      ]
    },
    {
      "cell_type": "code",
      "source": [
        "(A.T@np.ones([150, 150])@A/150)"
      ],
      "metadata": {
        "colab": {
          "base_uri": "https://localhost:8080/"
        },
        "id": "IIm7N3QG5bX1",
        "outputId": "20c67110-5e57-48ba-8e48-4fb012e3297f"
      },
      "execution_count": 90,
      "outputs": [
        {
          "output_type": "execute_result",
          "data": {
            "text/plain": [
              "array([[5121.68166667, 2679.75266667, 3293.887     , 1051.21566667],\n",
              "       [2679.75266667, 1402.09306667, 1723.4188    ,  550.01426667],\n",
              "       [3293.887     , 1723.4188    , 2118.3846    ,  676.0642    ],\n",
              "       [1051.21566667,  550.01426667,  676.0642    ,  215.76006667]])"
            ]
          },
          "metadata": {},
          "execution_count": 90
        }
      ]
    },
    {
      "cell_type": "code",
      "source": [],
      "metadata": {
        "id": "j-e0pww95g3Z"
      },
      "execution_count": null,
      "outputs": []
    }
  ]
}