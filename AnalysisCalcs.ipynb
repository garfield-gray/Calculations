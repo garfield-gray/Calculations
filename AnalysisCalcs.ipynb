{
  "nbformat": 4,
  "nbformat_minor": 0,
  "metadata": {
    "colab": {
      "provenance": [],
      "authorship_tag": "ABX9TyMMjPFwY0bwfPamDgOOd1nF",
      "include_colab_link": true
    },
    "kernelspec": {
      "name": "python3",
      "display_name": "Python 3"
    },
    "language_info": {
      "name": "python"
    }
  },
  "cells": [
    {
      "cell_type": "markdown",
      "metadata": {
        "id": "view-in-github",
        "colab_type": "text"
      },
      "source": [
        "<a href=\"https://colab.research.google.com/github/garfield-gray/Calculations/blob/main/AnalysisCalcs.ipynb\" target=\"_parent\"><img src=\"https://colab.research.google.com/assets/colab-badge.svg\" alt=\"Open In Colab\"/></a>"
      ]
    },
    {
      "cell_type": "markdown",
      "source": [
        "# The real and Complex number systems"
      ],
      "metadata": {
        "id": "0jPZQo6KNBCQ"
      }
    },
    {
      "cell_type": "code",
      "source": [
        "import numpy as np\n",
        "print(np.sqrt(2))"
      ],
      "metadata": {
        "colab": {
          "base_uri": "https://localhost:8080/"
        },
        "id": "nRsukvrUNrC4",
        "outputId": "864e12ab-074b-4a55-b2d5-cf5cc1f87e15"
      },
      "execution_count": 3,
      "outputs": [
        {
          "output_type": "stream",
          "name": "stdout",
          "text": [
            "1.4142135623730951\n"
          ]
        }
      ]
    },
    {
      "cell_type": "code",
      "execution_count": 5,
      "metadata": {
        "colab": {
          "base_uri": "https://localhost:8080/"
        },
        "id": "ocZvlFe-Mv9A",
        "outputId": "25d1501b-ef45-42fd-cd09-1e0403ac5ac2"
      },
      "outputs": [
        {
          "output_type": "stream",
          "name": "stdout",
          "text": [
            "1.3333333333333333\n",
            "1.4\n",
            "1.411764705882353\n",
            "1.413793103448276\n",
            "1.4141414141414141\n",
            "1.4142011834319528\n",
            "1.41421143847487\n",
            "1.4142131979695431\n",
            "1.4142134998513232\n",
            "1.4142135516460548\n",
            "1.4142135605326258\n",
            "1.4142135620573204\n",
            "1.4142135623189167\n",
            "1.4142135623637995\n",
            "1.4142135623715002\n",
            "1.4142135623728214\n",
            "1.414213562373048\n",
            "1.414213562373087\n",
            "1.4142135623730936\n",
            "1.4142135623730947\n",
            "1.414213562373095\n",
            "1.414213562373095\n",
            "1.414213562373095\n",
            "1.414213562373095\n",
            "1.414213562373095\n"
          ]
        }
      ],
      "source": [
        "p = 1\n",
        "for i in range(25):\n",
        "  q = (2*p+2)/(p+2)\n",
        "  print(q)\n",
        "  p = q"
      ]
    },
    {
      "cell_type": "code",
      "source": [
        "p = 2\n",
        "for i in range(30):\n",
        "  q = (2*p+2)/(p+2)\n",
        "  print(q)\n",
        "  p = q"
      ],
      "metadata": {
        "colab": {
          "base_uri": "https://localhost:8080/"
        },
        "id": "EvOiVAKjNk8v",
        "outputId": "cd879510-d34e-4a55-8251-68a7e9d37c94"
      },
      "execution_count": 12,
      "outputs": [
        {
          "output_type": "stream",
          "name": "stdout",
          "text": [
            "1.5\n",
            "1.4285714285714286\n",
            "1.4166666666666667\n",
            "1.4146341463414636\n",
            "1.4142857142857144\n",
            "1.4142259414225942\n",
            "1.4142156862745099\n",
            "1.4142139267767408\n",
            "1.4142136248948696\n",
            "1.4142135731001355\n",
            "1.4142135642135643\n",
            "1.4142135626888697\n",
            "1.4142135624272734\n",
            "1.4142135623823906\n",
            "1.4142135623746899\n",
            "1.4142135623733687\n",
            "1.414213562373142\n",
            "1.4142135623731031\n",
            "1.4142135623730965\n",
            "1.4142135623730954\n",
            "1.4142135623730951\n",
            "1.414213562373095\n",
            "1.414213562373095\n",
            "1.414213562373095\n",
            "1.414213562373095\n",
            "1.414213562373095\n",
            "1.414213562373095\n",
            "1.414213562373095\n",
            "1.414213562373095\n",
            "1.414213562373095\n"
          ]
        }
      ]
    },
    {
      "cell_type": "code",
      "source": [
        "p = 2\n",
        "for i in range(25):\n",
        "  q = (2*p+2)/(p+2)\n",
        "  formatted = \"{:.35f}\".format(q)\n",
        "  print(formatted)\n",
        "  p = q\n"
      ],
      "metadata": {
        "colab": {
          "base_uri": "https://localhost:8080/"
        },
        "id": "Y_lSwu1oOkRP",
        "outputId": "0c074e2e-3585-4ba8-d77c-adef55b96618"
      },
      "execution_count": 18,
      "outputs": [
        {
          "output_type": "stream",
          "name": "stdout",
          "text": [
            "1.50000000000000000000000000000000000\n",
            "1.42857142857142860314922927500447258\n",
            "1.41666666666666674068153497501043603\n",
            "1.41463414634146356085864226770354435\n",
            "1.41428571428571436818799611501162872\n",
            "1.41422594142259416827300810837186873\n",
            "1.41421568627450988664406850148225203\n",
            "1.41421392677674084836780821206048131\n",
            "1.41421362489486956981465937133179978\n",
            "1.41421357310013551256133723654784262\n",
            "1.41421356421356425592250616318779066\n",
            "1.41421356268886966311981723265489563\n",
            "1.41421356242727336294251472281757742\n",
            "1.41421356238239059877059844438917935\n",
            "1.41421356237468986982719343359349295\n",
            "1.41421356237336870442788949731038883\n",
            "1.41421356237314199688626104034483433\n",
            "1.41421356237310313908039915986591950\n",
            "1.41421356237309647774225140892667696\n",
            "1.41421356237309536751922678377013654\n",
            "1.41421356237309514547462185873882845\n",
            "1.41421356237309492343001693370752037\n",
            "1.41421356237309492343001693370752037\n",
            "1.41421356237309492343001693370752037\n",
            "1.41421356237309492343001693370752037\n"
          ]
        }
      ]
    },
    {
      "cell_type": "code",
      "source": [
        "\n",
        "formatted = \"{:.35f}\".format(np.sqrt(2))\n",
        "print(formatted)\n"
      ],
      "metadata": {
        "colab": {
          "base_uri": "https://localhost:8080/"
        },
        "id": "oXIWiHReNzRt",
        "outputId": "6fc3b46c-05c5-4c4e-b68c-719813577e15"
      },
      "execution_count": 17,
      "outputs": [
        {
          "output_type": "stream",
          "name": "stdout",
          "text": [
            "1.41421356237309514547462185873882845\n"
          ]
        }
      ]
    },
    {
      "cell_type": "code",
      "source": [],
      "metadata": {
        "id": "95XsU7gmPJXW"
      },
      "execution_count": null,
      "outputs": []
    }
  ]
}