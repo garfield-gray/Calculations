{
  "nbformat": 4,
  "nbformat_minor": 0,
  "metadata": {
    "colab": {
      "provenance": [],
      "authorship_tag": "ABX9TyOPVEfJJPPNXDAEAH6kMVTX",
      "include_colab_link": true
    },
    "kernelspec": {
      "name": "python3",
      "display_name": "Python 3"
    },
    "language_info": {
      "name": "python"
    }
  },
  "cells": [
    {
      "cell_type": "markdown",
      "metadata": {
        "id": "view-in-github",
        "colab_type": "text"
      },
      "source": [
        "<a href=\"https://colab.research.google.com/github/garfield-gray/Calculations/blob/main/AnalysisCalcs.ipynb\" target=\"_parent\"><img src=\"https://colab.research.google.com/assets/colab-badge.svg\" alt=\"Open In Colab\"/></a>"
      ]
    },
    {
      "cell_type": "markdown",
      "source": [
        "# The real and Complex number systems"
      ],
      "metadata": {
        "id": "0jPZQo6KNBCQ"
      }
    },
    {
      "cell_type": "code",
      "source": [
        "import numpy as np\n",
        "print(np.sqrt(2))"
      ],
      "metadata": {
        "colab": {
          "base_uri": "https://localhost:8080/"
        },
        "id": "nRsukvrUNrC4",
        "outputId": "864e12ab-074b-4a55-b2d5-cf5cc1f87e15"
      },
      "execution_count": 3,
      "outputs": [
        {
          "output_type": "stream",
          "name": "stdout",
          "text": [
            "1.4142135623730951\n"
          ]
        }
      ]
    },
    {
      "cell_type": "code",
      "execution_count": 5,
      "metadata": {
        "colab": {
          "base_uri": "https://localhost:8080/"
        },
        "id": "ocZvlFe-Mv9A",
        "outputId": "25d1501b-ef45-42fd-cd09-1e0403ac5ac2"
      },
      "outputs": [
        {
          "output_type": "stream",
          "name": "stdout",
          "text": [
            "1.3333333333333333\n",
            "1.4\n",
            "1.411764705882353\n",
            "1.413793103448276\n",
            "1.4141414141414141\n",
            "1.4142011834319528\n",
            "1.41421143847487\n",
            "1.4142131979695431\n",
            "1.4142134998513232\n",
            "1.4142135516460548\n",
            "1.4142135605326258\n",
            "1.4142135620573204\n",
            "1.4142135623189167\n",
            "1.4142135623637995\n",
            "1.4142135623715002\n",
            "1.4142135623728214\n",
            "1.414213562373048\n",
            "1.414213562373087\n",
            "1.4142135623730936\n",
            "1.4142135623730947\n",
            "1.414213562373095\n",
            "1.414213562373095\n",
            "1.414213562373095\n",
            "1.414213562373095\n",
            "1.414213562373095\n"
          ]
        }
      ],
      "source": [
        "p = 1\n",
        "for i in range(25):\n",
        "  q = (2*p+2)/(p+2)\n",
        "  print(q)\n",
        "  p = q"
      ]
    },
    {
      "cell_type": "code",
      "source": [
        "p = 2\n",
        "for i in range(10):\n",
        "  q = (2*p+2)/(p+2)\n",
        "  print(q)\n",
        "  p = q"
      ],
      "metadata": {
        "colab": {
          "base_uri": "https://localhost:8080/"
        },
        "id": "EvOiVAKjNk8v",
        "outputId": "76e2a649-1f5b-45b8-b994-b9416ed410a0"
      },
      "execution_count": 2,
      "outputs": [
        {
          "output_type": "stream",
          "name": "stdout",
          "text": [
            "1.5\n",
            "1.4285714285714286\n",
            "1.4166666666666667\n",
            "1.4146341463414636\n",
            "1.4142857142857144\n",
            "1.4142259414225942\n",
            "1.4142156862745099\n",
            "1.4142139267767408\n",
            "1.4142136248948696\n",
            "1.4142135731001355\n"
          ]
        }
      ]
    },
    {
      "cell_type": "code",
      "source": [],
      "metadata": {
        "id": "oXIWiHReNzRt"
      },
      "execution_count": null,
      "outputs": []
    }
  ]
}